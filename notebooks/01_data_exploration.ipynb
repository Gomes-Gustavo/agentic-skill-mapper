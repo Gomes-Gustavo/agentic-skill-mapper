{
 "cells": [
  {
   "cell_type": "markdown",
   "metadata": {},
   "source": [
    "# Notebook 1: Job Postings Data Exploration\n",
    "\n",
    "### Objective\n",
    "The primary goal of this notebook is to load the selected dataset (`Google Job Skills`) and perform an initial exploratory data analysis (EDA). This foundational step is crucial to understand the data's structure, identify the relevant information for our project, and prepare it for processing by our AI agents.\n",
    "\n",
    "### Key Steps:\n",
    "1.  **Load Data**: Import the necessary libraries and load the CSV file into a pandas DataFrame.\n",
    "2.  **Initial Inspection**: Examine the DataFrame's basic properties (shape, columns, data types) to get a first overview.\n",
    "3.  **Identify Key Column**: Pinpoint the specific column containing the job descriptions or responsibilities, which will be the primary input for our `Market_Analyst` agent."
   ]
  },
  {
   "cell_type": "markdown",
   "metadata": {},
   "source": [
    "## 1.1. Import Libraries and Load Data"
   ]
  },
  {
   "cell_type": "code",
   "execution_count": 9,
   "metadata": {},
   "outputs": [],
   "source": [
    "import pandas as pd\n",
    "import sys\n",
    "import os"
   ]
  },
  {
   "cell_type": "code",
   "execution_count": 10,
   "metadata": {},
   "outputs": [
    {
     "data": {
      "text/html": [
       "<div>\n",
       "<style scoped>\n",
       "    .dataframe tbody tr th:only-of-type {\n",
       "        vertical-align: middle;\n",
       "    }\n",
       "\n",
       "    .dataframe tbody tr th {\n",
       "        vertical-align: top;\n",
       "    }\n",
       "\n",
       "    .dataframe thead th {\n",
       "        text-align: right;\n",
       "    }\n",
       "</style>\n",
       "<table border=\"1\" class=\"dataframe\">\n",
       "  <thead>\n",
       "    <tr style=\"text-align: right;\">\n",
       "      <th></th>\n",
       "      <th>Company</th>\n",
       "      <th>Title</th>\n",
       "      <th>Category</th>\n",
       "      <th>Location</th>\n",
       "      <th>Responsibilities</th>\n",
       "      <th>Minimum Qualifications</th>\n",
       "      <th>Preferred Qualifications</th>\n",
       "    </tr>\n",
       "  </thead>\n",
       "  <tbody>\n",
       "    <tr>\n",
       "      <th>0</th>\n",
       "      <td>Google</td>\n",
       "      <td>Google Cloud Program Manager</td>\n",
       "      <td>Program Management</td>\n",
       "      <td>Singapore</td>\n",
       "      <td>Shape, shepherd, ship, and show technical prog...</td>\n",
       "      <td>BA/BS degree or equivalent practical experienc...</td>\n",
       "      <td>Experience in the business technology market a...</td>\n",
       "    </tr>\n",
       "    <tr>\n",
       "      <th>1</th>\n",
       "      <td>Google</td>\n",
       "      <td>Supplier Development Engineer (SDE), Cable/Con...</td>\n",
       "      <td>Manufacturing &amp; Supply Chain</td>\n",
       "      <td>Shanghai, China</td>\n",
       "      <td>Drive cross-functional activities in the suppl...</td>\n",
       "      <td>BS degree in an Engineering discipline or equi...</td>\n",
       "      <td>BSEE, BSME or BSIE degree.\\nExperience of usin...</td>\n",
       "    </tr>\n",
       "    <tr>\n",
       "      <th>2</th>\n",
       "      <td>Google</td>\n",
       "      <td>Data Analyst, Product and Tools Operations, Go...</td>\n",
       "      <td>Technical Solutions</td>\n",
       "      <td>New York, NY, United States</td>\n",
       "      <td>Collect and analyze data to draw insight and i...</td>\n",
       "      <td>Bachelor’s degree in Business, Economics, Stat...</td>\n",
       "      <td>Experience partnering or consulting cross-func...</td>\n",
       "    </tr>\n",
       "    <tr>\n",
       "      <th>3</th>\n",
       "      <td>Google</td>\n",
       "      <td>Developer Advocate, Partner Engineering</td>\n",
       "      <td>Developer Relations</td>\n",
       "      <td>Mountain View, CA, United States</td>\n",
       "      <td>Work one-on-one with the top Android, iOS, and...</td>\n",
       "      <td>BA/BS degree in Computer Science or equivalent...</td>\n",
       "      <td>Experience as a software developer, architect,...</td>\n",
       "    </tr>\n",
       "    <tr>\n",
       "      <th>4</th>\n",
       "      <td>Google</td>\n",
       "      <td>Program Manager, Audio Visual (AV) Deployments</td>\n",
       "      <td>Program Management</td>\n",
       "      <td>Sunnyvale, CA, United States</td>\n",
       "      <td>Plan requirements with internal customers.\\nPr...</td>\n",
       "      <td>BA/BS degree or equivalent practical experienc...</td>\n",
       "      <td>CTS Certification.\\nExperience in the construc...</td>\n",
       "    </tr>\n",
       "  </tbody>\n",
       "</table>\n",
       "</div>"
      ],
      "text/plain": [
       "  Company                                              Title  \\\n",
       "0  Google                       Google Cloud Program Manager   \n",
       "1  Google  Supplier Development Engineer (SDE), Cable/Con...   \n",
       "2  Google  Data Analyst, Product and Tools Operations, Go...   \n",
       "3  Google            Developer Advocate, Partner Engineering   \n",
       "4  Google     Program Manager, Audio Visual (AV) Deployments   \n",
       "\n",
       "                       Category                          Location  \\\n",
       "0            Program Management                         Singapore   \n",
       "1  Manufacturing & Supply Chain                   Shanghai, China   \n",
       "2           Technical Solutions       New York, NY, United States   \n",
       "3           Developer Relations  Mountain View, CA, United States   \n",
       "4            Program Management      Sunnyvale, CA, United States   \n",
       "\n",
       "                                    Responsibilities  \\\n",
       "0  Shape, shepherd, ship, and show technical prog...   \n",
       "1  Drive cross-functional activities in the suppl...   \n",
       "2  Collect and analyze data to draw insight and i...   \n",
       "3  Work one-on-one with the top Android, iOS, and...   \n",
       "4  Plan requirements with internal customers.\\nPr...   \n",
       "\n",
       "                              Minimum Qualifications  \\\n",
       "0  BA/BS degree or equivalent practical experienc...   \n",
       "1  BS degree in an Engineering discipline or equi...   \n",
       "2  Bachelor’s degree in Business, Economics, Stat...   \n",
       "3  BA/BS degree in Computer Science or equivalent...   \n",
       "4  BA/BS degree or equivalent practical experienc...   \n",
       "\n",
       "                            Preferred Qualifications  \n",
       "0  Experience in the business technology market a...  \n",
       "1  BSEE, BSME or BSIE degree.\\nExperience of usin...  \n",
       "2  Experience partnering or consulting cross-func...  \n",
       "3  Experience as a software developer, architect,...  \n",
       "4  CTS Certification.\\nExperience in the construc...  "
      ]
     },
     "execution_count": 10,
     "metadata": {},
     "output_type": "execute_result"
    }
   ],
   "source": [
    "data_path = '../data/raw/job_skills.csv'\n",
    "\n",
    "df = pd.read_csv(data_path)\n",
    "\n",
    "df.head()"
   ]
  },
  {
   "cell_type": "markdown",
   "metadata": {},
   "source": [
    "## 1.2. DataFrame Structure Inspection"
   ]
  },
  {
   "cell_type": "code",
   "execution_count": 11,
   "metadata": {},
   "outputs": [
    {
     "name": "stdout",
     "output_type": "stream",
     "text": [
      "<class 'pandas.core.frame.DataFrame'>\n",
      "RangeIndex: 1250 entries, 0 to 1249\n",
      "Data columns (total 7 columns):\n",
      " #   Column                    Non-Null Count  Dtype \n",
      "---  ------                    --------------  ----- \n",
      " 0   Company                   1250 non-null   object\n",
      " 1   Title                     1250 non-null   object\n",
      " 2   Category                  1250 non-null   object\n",
      " 3   Location                  1250 non-null   object\n",
      " 4   Responsibilities          1235 non-null   object\n",
      " 5   Minimum Qualifications    1236 non-null   object\n",
      " 6   Preferred Qualifications  1236 non-null   object\n",
      "dtypes: object(7)\n",
      "memory usage: 68.5+ KB\n"
     ]
    }
   ],
   "source": [
    "df.info()"
   ]
  },
  {
   "cell_type": "code",
   "execution_count": 12,
   "metadata": {},
   "outputs": [
    {
     "name": "stdout",
     "output_type": "stream",
     "text": [
      "(1250, 7)\n"
     ]
    }
   ],
   "source": [
    "print(df.shape)"
   ]
  },
  {
   "cell_type": "markdown",
   "metadata": {},
   "source": [
    "## 1.3. Feature Engineering: Creating a Unified Job Description\n",
    "\n",
    "Our analysis shows that the key job details are spread across three columns: `Responsibilities`, `Minimum Qualifications`, and `Preferred Qualifications`. To provide our AI agent with the most complete context, we will combine these into a single text column named `full_description`.\n",
    "\n",
    "Before concatenating, we must handle any missing values (`NaN`) by filling them with an empty string to prevent errors and ensure clean text."
   ]
  },
  {
   "cell_type": "code",
   "execution_count": 13,
   "metadata": {},
   "outputs": [
    {
     "name": "stdout",
     "output_type": "stream",
     "text": [
      "Verification: First 5 entries of the 'full_description' column:\n",
      "0    Shape, shepherd, ship, and show technical prog...\n",
      "1    Drive cross-functional activities in the suppl...\n",
      "2    Collect and analyze data to draw insight and i...\n",
      "3    Work one-on-one with the top Android, iOS, and...\n",
      "4    Plan requirements with internal customers.\\nPr...\n",
      "Name: full_description, dtype: object\n",
      "\n",
      "==================== Example of one full description (index 0) ====================\n",
      "\n",
      "Shape, shepherd, ship, and show technical programs designed to support the work of Cloud Customer Engineers and Solutions Architects.\n",
      "Measure and report on key metrics tied to those programs to identify any need to change course, cancel, or scale the programs from a regional to global platform.\n",
      "Communicate status and identify any obstacles and paths for resolution to stakeholders, including those in senior roles, in a transparent, regular, professional and timely manner.\n",
      "Establish expectations and rationale on deliverables for stakeholders and program contributors.\n",
      "Provide program performance feedback to teams in Product, Engineering, Sales, and Marketing (among others) to enable efficient cross-team operations.\n",
      "\n",
      "BA/BS degree or equivalent practical experience.\n",
      "3 years of experience in program and/or project management in cloud computing, enterprise software and/or marketing technologies.\n",
      "\n",
      "Experience in the business technology market as a program manager in SaaS, cloud computing, and/or emerging technologies.\n",
      "Significant cross-functional experience across engineering, sales, and marketing teams in cloud computing or related technical fields.\n",
      "Proven successful program outcomes from idea to launch in multiple contexts throughout your career.\n",
      "Ability to manage the expectations, demands and priorities of multiple internal stakeholders based on overarching vision and success for global team health.\n",
      "Ability to work under pressure and possess flexibility with changing needs and direction in a rapidly-growing organization.\n",
      "Strong organization and communication skills.\n"
     ]
    }
   ],
   "source": [
    "text_columns = ['Responsibilities', 'Minimum Qualifications', 'Preferred Qualifications']\n",
    "\n",
    "# Step 1: Fill NaN values in the target columns with an empty string\n",
    "for col in text_columns:\n",
    "    df[col] = df[col].fillna('')\n",
    "\n",
    "# Step 2: Create the 'full_description' column by joining the text from the specified columns.\n",
    "# We use a double newline character ('\\n\\n') as a separator for better readability.\n",
    "df['full_description'] = df[text_columns].apply(lambda x: '\\n\\n'.join(x), axis=1)\n",
    "\n",
    "\n",
    "print(\"Verification: First 5 entries of the 'full_description' column:\")\n",
    "print(df['full_description'].head())\n",
    "\n",
    "\n",
    "print(\"\\n==================== Example of one full description (index 0) ====================\\n\")\n",
    "print(df['full_description'].iloc[0])"
   ]
  },
  {
   "cell_type": "markdown",
   "metadata": {},
   "source": [
    "## 2. Agent Implementation and Testing\n",
    "\n",
    "Now that our data is prepared in the `full_description` column, it's time to use our custom-built AI agent to process it. "
   ]
  },
  {
   "cell_type": "markdown",
   "metadata": {},
   "source": [
    "## 2.1. Import the Agent Function\n",
    "\n",
    "To use our external Python script within this notebook, we first need to add the project's root directory to the system path. This allows Python to find the modules located in the `src` folder."
   ]
  },
  {
   "cell_type": "code",
   "execution_count": 14,
   "metadata": {},
   "outputs": [
    {
     "name": "stdout",
     "output_type": "stream",
     "text": [
      "Agent function 'analyze_job_description' imported\n"
     ]
    }
   ],
   "source": [
    "project_root = os.path.abspath(os.path.join(os.getcwd(), '..'))\n",
    "\n",
    "if project_root not in sys.path:\n",
    "    sys.path.append(project_root)\n",
    "\n",
    "# Now we can import our function from the src directory\n",
    "try:\n",
    "    from src.agents.market_analyst import analyze_job_description\n",
    "    print(\"Agent function 'analyze_job_description' imported\")\n",
    "except ImportError as e:\n",
    "    print(f\"Error importing agent function: {e}\")"
   ]
  },
  {
   "cell_type": "markdown",
   "metadata": {},
   "source": [
    "## 2.2. Test the Agent on a Single Entry\n",
    "\n",
    "Before processing the entire dataset (which can be time-consuming), it's a crucial best practice to test our agent on a single, representative sample. We'll take the first job description from our `full_description` column and pass it to the agent. This allows us to:\n",
    "1.  Verify that the connection with the local Ollama server is working.\n",
    "2.  Inspect the quality and format of the agent's output.\n",
    "3.  Estimate the time it takes to process one entry."
   ]
  },
  {
   "cell_type": "code",
   "execution_count": 15,
   "metadata": {},
   "outputs": [
    {
     "name": "stdout",
     "output_type": "stream",
     "text": [
      "--- Sending the following text to the agent for analysis (first 1000 characters): ---\n",
      "Shape, shepherd, ship, and show technical programs designed to support the work of Cloud Customer Engineers and Solutions Architects.\n",
      "Measure and report on key metrics tied to those programs to identify any need to change course, cancel, or scale the programs from a regional to global platform.\n",
      "Communicate status and identify any obstacles and paths for resolution to stakeholders, including those in senior roles, in a transparent, regular, professional and timely manner.\n",
      "Establish expectations and rationale on deliverables for stakeholders and program contributors.\n",
      "Provide program performance feedback to teams in Product, Engineering, Sales, and Marketing (among others) to enable efficient cross-team operations.\n",
      "\n",
      "BA/BS degree or equivalent practical experience.\n",
      "3 years of experience in program and/or project management in cloud computing, enterprise software and/or marketing technologies.\n",
      "\n",
      "Experience in the business technology market as a program manager in SaaS, cloud computing, and/o...\n",
      "\n",
      "--- [OLLAMA SERVER MUST BE RUNNING] ---\n",
      "--- Waiting for agent's response... This may take a moment. ---\n",
      "Market_Analyst Agent: Processing text...\n",
      "Market_Analyst Agent: Processing complete.\n",
      "\n",
      "--- Agent's Response Received: ---\n",
      "technical_skills=['AWS', 'Cloud Computing', 'SaaS', 'Cloud SaaS'] soft_skills=['Communication', 'Problem-solving', 'Teamwork', 'Agile Methodologies', 'Time Management', 'Organization', 'Flexibility', 'Prioritization']\n"
     ]
    }
   ],
   "source": [
    "# Select the first non-empty job description from our DataFrame to test the agent\n",
    "first_job_description = df['full_description'].loc[df['full_description'] != ''].iloc[0]\n",
    "\n",
    "print(\"--- Sending the following text to the agent for analysis (first 1000 characters): ---\")\n",
    "print(first_job_description[:1000] + '...' if len(first_job_description) > 1000 else first_job_description)\n",
    "print(\"\\n--- [OLLAMA SERVER MUST BE RUNNING] ---\")\n",
    "print(\"--- Waiting for agent's response... This may take a moment. ---\")\n",
    "\n",
    "# Call the agent function with the sample text\n",
    "extracted_skills = analyze_job_description(first_job_description)\n",
    "\n",
    "print(\"\\n--- Agent's Response Received: ---\")\n",
    "print(extracted_skills)"
   ]
  },
  {
   "cell_type": "markdown",
   "metadata": {},
   "source": [
    "## 2.3. Agent Performance Analysis and Conclusion\n",
    "\n",
    "### Test Summary\n",
    "The test on a single data entry was a success from a technical standpoint. The end-to-end pipeline—from data preparation in the notebook to the agent's code, through the Ollama server, and back with a structured Pydantic object—functioned flawlessly. This validates the core architecture of our system.\n",
    "\n",
    "### Analysis of AI Agent's Output\n",
    "While technically successful, a critical analysis of the agent's output reveals key areas for future improvement:\n",
    "\n",
    "1.  **Hallucination of Technical Skills:** The agent extracted \"AWS\", a skill not explicitly mentioned in the source text. This is a classic example of model hallucination, where the LLM uses its vast general knowledge (\"Cloud Computing\" is often associated with \"AWS\") instead of strictly adhering to the provided context.\n",
    "\n",
    "2.  **Inference vs. Extraction of Soft Skills:** The agent correctly inferred soft skills like \"Problem-solving\" and \"Teamwork\" from descriptive phrases. While this demonstrates a sophisticated level of understanding, it deviates from a purely literal extraction task.\n",
    "\n",
    "### Next Steps & Strategy\n",
    "The current agent performance establishes our **baseline**. The observed issues (hallucination and inference) may be specific to this single data point or they could be systemic.\n",
    "\n",
    "Therefore, attempting to perfect the agent's prompt based on this single sample is inefficient. The logical next step is to proceed with batch processing on a larger dataset. This will allow us to:\n",
    "-   Determine if these behaviors are consistent across many examples.\n",
    "-   Gather quantitative data on the agent's performance.\n",
    "-   Make data-driven decisions on how to iterate and improve the prompt in the next phase of the project."
   ]
  }
 ],
 "metadata": {
  "kernelspec": {
   "display_name": "venv",
   "language": "python",
   "name": "python3"
  },
  "language_info": {
   "codemirror_mode": {
    "name": "ipython",
    "version": 3
   },
   "file_extension": ".py",
   "mimetype": "text/x-python",
   "name": "python",
   "nbconvert_exporter": "python",
   "pygments_lexer": "ipython3",
   "version": "3.10.7"
  }
 },
 "nbformat": 4,
 "nbformat_minor": 2
}
