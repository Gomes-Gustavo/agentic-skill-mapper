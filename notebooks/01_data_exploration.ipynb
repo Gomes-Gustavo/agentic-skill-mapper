{
 "cells": [
  {
   "cell_type": "markdown",
   "metadata": {},
   "source": [
    "# Notebook 1: Job Postings Data Exploration\n",
    "\n",
    "### Objective\n",
    "The primary goal of this notebook is to load the selected dataset (`Google Job Skills`) and perform an initial exploratory data analysis (EDA). This foundational step is crucial to understand the data's structure, identify the relevant information for our project, and prepare it for processing by our AI agents.\n",
    "\n",
    "### Key Steps:\n",
    "1.  **Load Data**: Import the necessary libraries and load the CSV file into a pandas DataFrame.\n",
    "2.  **Initial Inspection**: Examine the DataFrame's basic properties (shape, columns, data types) to get a first overview.\n",
    "3.  **Identify Key Column**: Pinpoint the specific column containing the job descriptions or responsibilities, which will be the primary input for our `Market_Analyst` agent."
   ]
  },
  {
   "cell_type": "markdown",
   "metadata": {},
   "source": [
    "## 1.1. Import Libraries and Load Data"
   ]
  },
  {
   "cell_type": "code",
   "execution_count": 1,
   "metadata": {},
   "outputs": [],
   "source": [
    "import pandas as pd"
   ]
  },
  {
   "cell_type": "code",
   "execution_count": 2,
   "metadata": {},
   "outputs": [
    {
     "data": {
      "text/html": [
       "<div>\n",
       "<style scoped>\n",
       "    .dataframe tbody tr th:only-of-type {\n",
       "        vertical-align: middle;\n",
       "    }\n",
       "\n",
       "    .dataframe tbody tr th {\n",
       "        vertical-align: top;\n",
       "    }\n",
       "\n",
       "    .dataframe thead th {\n",
       "        text-align: right;\n",
       "    }\n",
       "</style>\n",
       "<table border=\"1\" class=\"dataframe\">\n",
       "  <thead>\n",
       "    <tr style=\"text-align: right;\">\n",
       "      <th></th>\n",
       "      <th>Company</th>\n",
       "      <th>Title</th>\n",
       "      <th>Category</th>\n",
       "      <th>Location</th>\n",
       "      <th>Responsibilities</th>\n",
       "      <th>Minimum Qualifications</th>\n",
       "      <th>Preferred Qualifications</th>\n",
       "    </tr>\n",
       "  </thead>\n",
       "  <tbody>\n",
       "    <tr>\n",
       "      <th>0</th>\n",
       "      <td>Google</td>\n",
       "      <td>Google Cloud Program Manager</td>\n",
       "      <td>Program Management</td>\n",
       "      <td>Singapore</td>\n",
       "      <td>Shape, shepherd, ship, and show technical prog...</td>\n",
       "      <td>BA/BS degree or equivalent practical experienc...</td>\n",
       "      <td>Experience in the business technology market a...</td>\n",
       "    </tr>\n",
       "    <tr>\n",
       "      <th>1</th>\n",
       "      <td>Google</td>\n",
       "      <td>Supplier Development Engineer (SDE), Cable/Con...</td>\n",
       "      <td>Manufacturing &amp; Supply Chain</td>\n",
       "      <td>Shanghai, China</td>\n",
       "      <td>Drive cross-functional activities in the suppl...</td>\n",
       "      <td>BS degree in an Engineering discipline or equi...</td>\n",
       "      <td>BSEE, BSME or BSIE degree.\\nExperience of usin...</td>\n",
       "    </tr>\n",
       "    <tr>\n",
       "      <th>2</th>\n",
       "      <td>Google</td>\n",
       "      <td>Data Analyst, Product and Tools Operations, Go...</td>\n",
       "      <td>Technical Solutions</td>\n",
       "      <td>New York, NY, United States</td>\n",
       "      <td>Collect and analyze data to draw insight and i...</td>\n",
       "      <td>Bachelor’s degree in Business, Economics, Stat...</td>\n",
       "      <td>Experience partnering or consulting cross-func...</td>\n",
       "    </tr>\n",
       "    <tr>\n",
       "      <th>3</th>\n",
       "      <td>Google</td>\n",
       "      <td>Developer Advocate, Partner Engineering</td>\n",
       "      <td>Developer Relations</td>\n",
       "      <td>Mountain View, CA, United States</td>\n",
       "      <td>Work one-on-one with the top Android, iOS, and...</td>\n",
       "      <td>BA/BS degree in Computer Science or equivalent...</td>\n",
       "      <td>Experience as a software developer, architect,...</td>\n",
       "    </tr>\n",
       "    <tr>\n",
       "      <th>4</th>\n",
       "      <td>Google</td>\n",
       "      <td>Program Manager, Audio Visual (AV) Deployments</td>\n",
       "      <td>Program Management</td>\n",
       "      <td>Sunnyvale, CA, United States</td>\n",
       "      <td>Plan requirements with internal customers.\\nPr...</td>\n",
       "      <td>BA/BS degree or equivalent practical experienc...</td>\n",
       "      <td>CTS Certification.\\nExperience in the construc...</td>\n",
       "    </tr>\n",
       "  </tbody>\n",
       "</table>\n",
       "</div>"
      ],
      "text/plain": [
       "  Company                                              Title  \\\n",
       "0  Google                       Google Cloud Program Manager   \n",
       "1  Google  Supplier Development Engineer (SDE), Cable/Con...   \n",
       "2  Google  Data Analyst, Product and Tools Operations, Go...   \n",
       "3  Google            Developer Advocate, Partner Engineering   \n",
       "4  Google     Program Manager, Audio Visual (AV) Deployments   \n",
       "\n",
       "                       Category                          Location  \\\n",
       "0            Program Management                         Singapore   \n",
       "1  Manufacturing & Supply Chain                   Shanghai, China   \n",
       "2           Technical Solutions       New York, NY, United States   \n",
       "3           Developer Relations  Mountain View, CA, United States   \n",
       "4            Program Management      Sunnyvale, CA, United States   \n",
       "\n",
       "                                    Responsibilities  \\\n",
       "0  Shape, shepherd, ship, and show technical prog...   \n",
       "1  Drive cross-functional activities in the suppl...   \n",
       "2  Collect and analyze data to draw insight and i...   \n",
       "3  Work one-on-one with the top Android, iOS, and...   \n",
       "4  Plan requirements with internal customers.\\nPr...   \n",
       "\n",
       "                              Minimum Qualifications  \\\n",
       "0  BA/BS degree or equivalent practical experienc...   \n",
       "1  BS degree in an Engineering discipline or equi...   \n",
       "2  Bachelor’s degree in Business, Economics, Stat...   \n",
       "3  BA/BS degree in Computer Science or equivalent...   \n",
       "4  BA/BS degree or equivalent practical experienc...   \n",
       "\n",
       "                            Preferred Qualifications  \n",
       "0  Experience in the business technology market a...  \n",
       "1  BSEE, BSME or BSIE degree.\\nExperience of usin...  \n",
       "2  Experience partnering or consulting cross-func...  \n",
       "3  Experience as a software developer, architect,...  \n",
       "4  CTS Certification.\\nExperience in the construc...  "
      ]
     },
     "execution_count": 2,
     "metadata": {},
     "output_type": "execute_result"
    }
   ],
   "source": [
    "data_path = '../data/raw/job_skills.csv'\n",
    "\n",
    "df = pd.read_csv(data_path)\n",
    "\n",
    "df.head()"
   ]
  },
  {
   "cell_type": "markdown",
   "metadata": {},
   "source": [
    "## 1.2. DataFrame Structure Inspection"
   ]
  },
  {
   "cell_type": "code",
   "execution_count": 3,
   "metadata": {},
   "outputs": [
    {
     "name": "stdout",
     "output_type": "stream",
     "text": [
      "<class 'pandas.core.frame.DataFrame'>\n",
      "RangeIndex: 1250 entries, 0 to 1249\n",
      "Data columns (total 7 columns):\n",
      " #   Column                    Non-Null Count  Dtype \n",
      "---  ------                    --------------  ----- \n",
      " 0   Company                   1250 non-null   object\n",
      " 1   Title                     1250 non-null   object\n",
      " 2   Category                  1250 non-null   object\n",
      " 3   Location                  1250 non-null   object\n",
      " 4   Responsibilities          1235 non-null   object\n",
      " 5   Minimum Qualifications    1236 non-null   object\n",
      " 6   Preferred Qualifications  1236 non-null   object\n",
      "dtypes: object(7)\n",
      "memory usage: 68.5+ KB\n"
     ]
    }
   ],
   "source": [
    "df.info()"
   ]
  },
  {
   "cell_type": "code",
   "execution_count": 5,
   "metadata": {},
   "outputs": [
    {
     "name": "stdout",
     "output_type": "stream",
     "text": [
      "(1250, 7)\n"
     ]
    }
   ],
   "source": [
    "print(df.shape)"
   ]
  },
  {
   "cell_type": "markdown",
   "metadata": {},
   "source": [
    "## 1.3. Feature Engineering: Creating a Unified Job Description\n",
    "\n",
    "Our analysis shows that the key job details are spread across three columns: `Responsibilities`, `Minimum Qualifications`, and `Preferred Qualifications`. To provide our AI agent with the most complete context, we will combine these into a single text column named `full_description`.\n",
    "\n",
    "Before concatenating, we must handle any missing values (`NaN`) by filling them with an empty string to prevent errors and ensure clean text."
   ]
  },
  {
   "cell_type": "code",
   "execution_count": 6,
   "metadata": {},
   "outputs": [
    {
     "name": "stdout",
     "output_type": "stream",
     "text": [
      "Verification: First 5 entries of the 'full_description' column:\n",
      "0    Shape, shepherd, ship, and show technical prog...\n",
      "1    Drive cross-functional activities in the suppl...\n",
      "2    Collect and analyze data to draw insight and i...\n",
      "3    Work one-on-one with the top Android, iOS, and...\n",
      "4    Plan requirements with internal customers.\\nPr...\n",
      "Name: full_description, dtype: object\n",
      "\n",
      "==================== Example of one full description (index 0) ====================\n",
      "\n",
      "Shape, shepherd, ship, and show technical programs designed to support the work of Cloud Customer Engineers and Solutions Architects.\n",
      "Measure and report on key metrics tied to those programs to identify any need to change course, cancel, or scale the programs from a regional to global platform.\n",
      "Communicate status and identify any obstacles and paths for resolution to stakeholders, including those in senior roles, in a transparent, regular, professional and timely manner.\n",
      "Establish expectations and rationale on deliverables for stakeholders and program contributors.\n",
      "Provide program performance feedback to teams in Product, Engineering, Sales, and Marketing (among others) to enable efficient cross-team operations.\n",
      "\n",
      "BA/BS degree or equivalent practical experience.\n",
      "3 years of experience in program and/or project management in cloud computing, enterprise software and/or marketing technologies.\n",
      "\n",
      "Experience in the business technology market as a program manager in SaaS, cloud computing, and/or emerging technologies.\n",
      "Significant cross-functional experience across engineering, sales, and marketing teams in cloud computing or related technical fields.\n",
      "Proven successful program outcomes from idea to launch in multiple contexts throughout your career.\n",
      "Ability to manage the expectations, demands and priorities of multiple internal stakeholders based on overarching vision and success for global team health.\n",
      "Ability to work under pressure and possess flexibility with changing needs and direction in a rapidly-growing organization.\n",
      "Strong organization and communication skills.\n"
     ]
    }
   ],
   "source": [
    "text_columns = ['Responsibilities', 'Minimum Qualifications', 'Preferred Qualifications']\n",
    "\n",
    "# Step 1: Fill NaN values in the target columns with an empty string\n",
    "for col in text_columns:\n",
    "    df[col] = df[col].fillna('')\n",
    "\n",
    "# Step 2: Create the 'full_description' column by joining the text from the specified columns.\n",
    "# We use a double newline character ('\\n\\n') as a separator for better readability.\n",
    "df['full_description'] = df[text_columns].apply(lambda x: '\\n\\n'.join(x), axis=1)\n",
    "\n",
    "\n",
    "print(\"Verification: First 5 entries of the 'full_description' column:\")\n",
    "print(df['full_description'].head())\n",
    "\n",
    "\n",
    "print(\"\\n==================== Example of one full description (index 0) ====================\\n\")\n",
    "print(df['full_description'].iloc[0])"
   ]
  }
 ],
 "metadata": {
  "kernelspec": {
   "display_name": "venv",
   "language": "python",
   "name": "python3"
  },
  "language_info": {
   "codemirror_mode": {
    "name": "ipython",
    "version": 3
   },
   "file_extension": ".py",
   "mimetype": "text/x-python",
   "name": "python",
   "nbconvert_exporter": "python",
   "pygments_lexer": "ipython3",
   "version": "3.10.7"
  }
 },
 "nbformat": 4,
 "nbformat_minor": 2
}
