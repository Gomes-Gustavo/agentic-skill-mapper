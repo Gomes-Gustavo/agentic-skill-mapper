{
 "cells": [
  {
   "cell_type": "markdown",
   "metadata": {},
   "source": [
    "# Notebook 5: Learning Planner Agent - Development and Testing\n",
    "\n",
    "### Objective\n",
    "The purpose of this notebook is to develop and test our third agent: the `Learning Planner`. This agent uses an LLM to find and curate free, high-quality learning resources for a given list of skill gaps.\n",
    "\n",
    "### Key Steps:\n",
    "1.  **Define Inputs**: We will start with a sample list of skill gaps, representing the output from our `Gap Analyst`.\n",
    "2.  **Define Output Structure**: We'll create Pydantic models to ensure the agent's output is structured and reliable.\n",
    "3.  **Develop the Prompt**: Craft a detailed prompt to instruct the LLM to act as a learning mentor.\n",
    "4.  **Implement and Test Agent Logic**: Implement the agent function in its `.py` file and test it here by calling it with our sample inputs."
   ]
  },
  {
   "cell_type": "code",
   "execution_count": 1,
   "metadata": {},
   "outputs": [
    {
     "name": "stderr",
     "output_type": "stream",
     "text": [
      "c:\\Users\\gusta\\OneDrive\\Documentos\\GitHub\\agentic-skill-mapper\\venv\\lib\\site-packages\\tqdm\\auto.py:21: TqdmWarning: IProgress not found. Please update jupyter and ipywidgets. See https://ipywidgets.readthedocs.io/en/stable/user_install.html\n",
      "  from .autonotebook import tqdm as notebook_tqdm\n"
     ]
    }
   ],
   "source": [
    "import sys\n",
    "import os\n",
    "from langchain_ollama import OllamaLLM\n",
    "from langchain_core.prompts import PromptTemplate\n",
    "from langchain_core.output_parsers import JsonOutputParser\n",
    "from pydantic import BaseModel, Field, HttpUrl\n",
    "from typing import List, Dict\n",
    "from tqdm.auto import tqdm\n",
    "\n",
    "\n",
    "# Add project root to path to allow importing from src\n",
    "project_root = os.path.abspath(os.path.join(os.getcwd(), '..'))\n",
    "if project_root not in sys.path:\n",
    "    sys.path.append(project_root)\n",
    "\n",
    "\n",
    "from src.agents import learning_planner\n",
    "\n",
    "# This is a sample list of skill gaps, simulating the output from Phase 2.\n",
    "skill_gaps_to_learn = [\n",
    "    'kubernetes',\n",
    "    'go',\n",
    "    'terraform',\n",
    "    'google cloud platform (gcp)',\n",
    "    'ci/cd'\n",
    "]"
   ]
  },
  {
   "cell_type": "markdown",
   "metadata": {},
   "source": [
    "## Developing the Agent's Core Logic\n",
    "\n",
    "The intelligence of our `Learning Planner` resides almost entirely in its prompt. Our goal is to create a set of instructions that guides the LLM to perform several tasks:\n",
    "1.  Act as an expert learning guide.\n",
    "2.  Find a variety of **free, high-quality** learning resources.\n",
    "3.  Categorize each resource (e.g., Video, Article, Course).\n",
    "4.  Return the findings in a structured JSON format that matches our Pydantic models.\n",
    "\n",
    "We will define this logic within a function in this notebook for rapid, iterative testing."
   ]
  },
  {
   "cell_type": "code",
   "execution_count": 2,
   "metadata": {},
   "outputs": [],
   "source": [
    "class LearningResource(BaseModel):\n",
    "    title: str = Field(description=\"The descriptive title of the resource.\")\n",
    "    url: HttpUrl = Field(description=\"The direct URL to the resource.\")\n",
    "    resource_type: str = Field(description=\"The type of the resource, e.g., 'Video', 'Article', 'Tutorial', 'Official Docs'.\")\n",
    "\n",
    "class LearningPlan(BaseModel):\n",
    "    \"\"\"A structured learning plan containing a list of resources for a skill.\"\"\"\n",
    "    plan: List[LearningResource] = Field(description=\"A list of curated learning resources.\")\n",
    "\n",
    "\n",
    "def find_resources_for_skill(skill_name: str) -> LearningPlan:\n",
    "    \"\"\"Finds a curated list of free learning resources for a single skill using an LLM.\"\"\"\n",
    "    \n",
    "    parser = JsonOutputParser(pydantic_object=LearningPlan)\n",
    "    \n",
    "    prompt_template = \"\"\"\n",
    "    You are an expert curriculum developer and learning mentor for software engineers.\n",
    "    Your task is to find the best **free** and **stable** online resources to learn a specific technical skill.\n",
    "\n",
    "    For the skill \"{skill_name}\", find 3 to 4 high-quality, free-to-access learning resources.\n",
    "\n",
    "    RULES:\n",
    "    1.  **Prioritize Stable URLs**: Your knowledge has a cutoff date. To avoid 404 errors, prioritize links to high-level pages like the main documentation site (e.g., 'react.dev/learn'), a main tutorials page (e.g., 'kubernetes.io/docs/tutorials'), or a search query on a reputable platform (e.g., 'youtube.com/results?search_query=learn+terraform'). Avoid deep links to specific, obscure blog posts or old tutorials.\n",
    "    2.  **Free Only**: All resources must be 100% free.\n",
    "    3.  **Variety**: Provide a mix of resource types (e.g., 'Official Docs', 'Video Search', 'Tutorials Hub').\n",
    "    4.  **High Quality**: Prioritize official documentation and well-known educational platforms.\n",
    "    5.  **JSON Output**: You MUST return your response *only* as a valid JSON object with a single key \"plan\".\n",
    "\n",
    "    {format_instructions}\n",
    "    \"\"\"\n",
    "\n",
    "    llm = OllamaLLM(model=\"llama3:8b\", base_url=\"http://127.0.0.1:11434\", temperature=0.1)\n",
    "    \n",
    "    prompt = PromptTemplate(\n",
    "        template=prompt_template,\n",
    "        input_variables=[\"skill_name\"],\n",
    "        partial_variables={\"format_instructions\": parser.get_format_instructions()}\n",
    "    )\n",
    "\n",
    "    chain = prompt | llm | parser\n",
    "\n",
    "    try:\n",
    "        print(f\"Agent: Searching for STABLE resources for '{skill_name}'...\")\n",
    "        result = chain.invoke({\"skill_name\": skill_name})\n",
    "        return LearningPlan(**result)\n",
    "    except Exception as e:\n",
    "        print(f\"--- AGENT ERROR ---\")\n",
    "        print(f\"An exception occurred while searching for '{skill_name}'. Details: {e}\")\n",
    "        return LearningPlan(plan=[])\n",
    "\n"
   ]
  },
  {
   "cell_type": "markdown",
   "metadata": {},
   "source": [
    "### Testing the Agent on a Single Skill\n",
    "\n",
    "Before building the full loop, let's test our function on a single skill from our `skill_gaps_to_learn` list. This allows us to quickly validate our prompt and the LLM's output. We'll start with 'kubernetes'."
   ]
  },
  {
   "cell_type": "code",
   "execution_count": 3,
   "metadata": {},
   "outputs": [
    {
     "name": "stdout",
     "output_type": "stream",
     "text": [
      "Agent: Searching for STABLE resources for 'kubernetes'...\n",
      "\n",
      "Found 3 resources for 'Kubernetes':\n",
      "  - Title: Official Kubernetes Documentation\n",
      "    Type: Official Docs\n",
      "    URL: https://kubernetes.io/docs/\n",
      "  - Title: Kubernetes Tutorials Hub\n",
      "    Type: Tutorials Hub\n",
      "    URL: https://kubernetes.io/docs/tutorials/\n",
      "  - Title: Kubernetes YouTube Search Results\n",
      "    Type: Video Search\n",
      "    URL: https://www.youtube.com/results?search_query=learn+kubernetes\n"
     ]
    }
   ],
   "source": [
    "target_skill = skill_gaps_to_learn[0]\n",
    "\n",
    "learning_plan = find_resources_for_skill(target_skill)\n",
    "\n",
    "if learning_plan and learning_plan.plan:\n",
    "    print(f\"\\nFound {len(learning_plan.plan)} resources for '{target_skill.title()}':\")\n",
    "    for res in learning_plan.plan:\n",
    "        print(f\"  - Title: {res.title}\")\n",
    "        print(f\"    Type: {res.resource_type}\")\n",
    "        print(f\"    URL: {res.url}\")\n",
    "else:\n",
    "    print(f\"\\nNo resources were found for '{target_skill.title()}'.\")"
   ]
  },
  {
   "cell_type": "markdown",
   "metadata": {},
   "source": [
    "## Creating the Full Learning Plan\n",
    "\n",
    "Now that our core function `find_resources_for_skill` is robust, we need a main function to orchestrate the process for all the skills in our `skill_gaps_to_learn` list. This new function will loop through each skill, call our agent, and compile the results into a single, comprehensive `LearningPlan` object."
   ]
  },
  {
   "cell_type": "code",
   "execution_count": 4,
   "metadata": {},
   "outputs": [],
   "source": [
    "def create_full_learning_plan(skills_to_learn: List[str]) -> Dict[str, List[LearningResource]]:\n",
    "    \"\"\"\n",
    "    Generates a comprehensive learning plan for a list of skill gaps.\n",
    "    \"\"\"\n",
    "    full_plan_dict = {}\n",
    "    \n",
    "    for skill in tqdm(skills_to_learn, desc=\"Generating Learning Plan\"):\n",
    "        resources_plan = find_resources_for_skill(skill)\n",
    "        \n",
    "        if resources_plan and resources_plan.plan:\n",
    "            full_plan_dict[skill] = resources_plan.plan\n",
    "        else:\n",
    "            full_plan_dict[skill] = []\n",
    "            \n",
    "    return full_plan_dict\n",
    "\n"
   ]
  },
  {
   "cell_type": "markdown",
   "metadata": {},
   "source": [
    "### Executing the Full Pipeline"
   ]
  },
  {
   "cell_type": "code",
   "execution_count": 5,
   "metadata": {},
   "outputs": [
    {
     "name": "stderr",
     "output_type": "stream",
     "text": [
      "Generating Learning Plan:   0%|          | 0/5 [00:00<?, ?it/s]"
     ]
    },
    {
     "name": "stdout",
     "output_type": "stream",
     "text": [
      "Agent: Searching for STABLE resources for 'kubernetes'...\n"
     ]
    },
    {
     "name": "stderr",
     "output_type": "stream",
     "text": [
      "Generating Learning Plan:  20%|██        | 1/5 [01:27<05:51, 87.95s/it]"
     ]
    },
    {
     "name": "stdout",
     "output_type": "stream",
     "text": [
      "Agent: Searching for STABLE resources for 'go'...\n"
     ]
    },
    {
     "name": "stderr",
     "output_type": "stream",
     "text": [
      "Generating Learning Plan:  40%|████      | 2/5 [04:01<06:20, 126.70s/it]"
     ]
    },
    {
     "name": "stdout",
     "output_type": "stream",
     "text": [
      "Agent: Searching for STABLE resources for 'terraform'...\n"
     ]
    },
    {
     "name": "stderr",
     "output_type": "stream",
     "text": [
      "Generating Learning Plan:  60%|██████    | 3/5 [06:42<04:44, 142.17s/it]"
     ]
    },
    {
     "name": "stdout",
     "output_type": "stream",
     "text": [
      "Agent: Searching for STABLE resources for 'google cloud platform (gcp)'...\n"
     ]
    },
    {
     "name": "stderr",
     "output_type": "stream",
     "text": [
      "Generating Learning Plan:  80%|████████  | 4/5 [09:44<02:37, 157.85s/it]"
     ]
    },
    {
     "name": "stdout",
     "output_type": "stream",
     "text": [
      "Agent: Searching for STABLE resources for 'ci/cd'...\n"
     ]
    },
    {
     "name": "stderr",
     "output_type": "stream",
     "text": [
      "Generating Learning Plan: 100%|██████████| 5/5 [12:24<00:00, 148.80s/it]"
     ]
    },
    {
     "name": "stdout",
     "output_type": "stream",
     "text": [
      "--- AGENT ERROR ---\n",
      "An exception occurred while searching for 'ci/cd'. Details: 1 validation error for LearningPlan\n",
      "plan.1.resource_type\n",
      "  Field required [type=missing, input_value={'title': 'CircleCI Offic...eci.com/docs/,\\n      '}, input_type=dict]\n",
      "    For further information visit https://errors.pydantic.dev/2.11/v/missing\n",
      "\n",
      "==================================================\n",
      "     C U S T O M I Z E D   L E A R N I N G   P L A N\n",
      "==================================================\n",
      "\n",
      " Skill to Learn: Kubernetes\n",
      "  - Title: Official Kubernetes Documentation\n",
      "    Type: Official Docs\n",
      "    URL: https://kubernetes.io/docs/\n",
      "  - Title: Kubernetes Tutorials Hub\n",
      "    Type: Tutorials Hub\n",
      "    URL: https://kubernetes.io/docs/tutorials/\n",
      "  - Title: Kubernetes YouTube Channel\n",
      "    Type: Video Search\n",
      "    URL: https://www.youtube.com/results?search_query=learn+kubernetes\n",
      "--------------------\n",
      " Skill to Learn: Go\n",
      "  - Title: Official Go Documentation\n",
      "    Type: Official Docs\n",
      "    URL: https://golang.org/doc/\n",
      "  - Title: Go Tutorials by Google\n",
      "    Type: Tutorials Hub\n",
      "    URL: https://tour.golang.org/list\n",
      "  - Title: Go Programming Language YouTube Channel\n",
      "    Type: Video Search\n",
      "    URL: https://www.youtube.com/results?search_query=learn+go\n",
      "--------------------\n",
      " Skill to Learn: Terraform\n",
      "  - Title: Terraform Official Documentation\n",
      "    Type: Official Docs\n",
      "    URL: https://www.terraform.io/docs\n",
      "  - Title: HashiCorp Terraform Tutorial\n",
      "    Type: Tutorial\n",
      "    URL: https://learn.hashicorp.com/terraform\n",
      "  - Title: Terraform YouTube Search Results\n",
      "    Type: Video Search\n",
      "    URL: https://www.youtube.com/results?search_query=learn+terraform\n",
      "--------------------\n",
      " Skill to Learn: Google Cloud Platform (Gcp)\n",
      "  - Title: Google Cloud Platform (GCP) Official Documentation\n",
      "    Type: Official Docs\n",
      "    URL: https://cloud.google.com/docs\n",
      "  - Title: Google Cloud Tutorials Hub\n",
      "    Type: Tutorials Hub\n",
      "    URL: https://cloud.google.com/tutorials\n",
      "  - Title: YouTube Search for GCP Tutorials\n",
      "    Type: Video Search\n",
      "    URL: https://www.youtube.com/results?search_query=learn+google+cloud+platform\n",
      "--------------------\n",
      " Skill to Learn: Ci/Cd\n",
      "  - No resources were found for this skill (or an error occurred).\n",
      "--------------------\n"
     ]
    },
    {
     "name": "stderr",
     "output_type": "stream",
     "text": [
      "\n"
     ]
    }
   ],
   "source": [
    "final_learning_plan_dict = create_full_learning_plan(skill_gaps_to_learn)\n",
    "\n",
    "print(\"\\n\" + \"=\"*50)\n",
    "print(\"     C U S T O M I Z E D   L E A R N I N G   P L A N\")\n",
    "print(\"=\"*50 + \"\\n\")\n",
    "\n",
    "if final_learning_plan_dict:\n",
    "    for skill, resources in final_learning_plan_dict.items():\n",
    "        print(f\" Skill to Learn: {skill.title()}\")\n",
    "        if resources:\n",
    "            for res in resources:\n",
    "                print(f\"  - Title: {res.title}\")\n",
    "                print(f\"    Type: {res.resource_type}\")\n",
    "                print(f\"    URL: {res.url}\")\n",
    "        else:\n",
    "            print(\"  - No resources were found for this skill (or an error occurred).\")\n",
    "        print(\"-\" * 20)\n",
    "else:\n",
    "    print(\"The learning plan is empty.\")"
   ]
  },
  {
   "cell_type": "markdown",
   "metadata": {},
   "source": [
    "## Final Step: Modularize the Agent\n",
    "\n",
    "The development and validation of our `Learning Planner` agent are now complete. The final step is to move the complete logic (Pydantic models and both functions) into its official project file, `src/agents/learning_planner.py`."
   ]
  }
 ],
 "metadata": {
  "kernelspec": {
   "display_name": "venv",
   "language": "python",
   "name": "python3"
  },
  "language_info": {
   "codemirror_mode": {
    "name": "ipython",
    "version": 3
   },
   "file_extension": ".py",
   "mimetype": "text/x-python",
   "name": "python",
   "nbconvert_exporter": "python",
   "pygments_lexer": "ipython3",
   "version": "3.10.7"
  }
 },
 "nbformat": 4,
 "nbformat_minor": 2
}
